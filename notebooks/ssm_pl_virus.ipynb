{
  "cells": [
    {
      "cell_type": "code",
      "source": [
        "!pip install lightning"
      ],
      "metadata": {
        "id": "E5Oj3mlM5fFg"
      },
      "id": "E5Oj3mlM5fFg",
      "execution_count": null,
      "outputs": []
    },
    {
      "cell_type": "code",
      "source": [
        "!git clone https://github.com/state-spaces/mamba.git"
      ],
      "metadata": {
        "id": "xGfHe7mQuaTM"
      },
      "id": "xGfHe7mQuaTM",
      "execution_count": null,
      "outputs": []
    },
    {
      "cell_type": "code",
      "source": [
        "!pip install Datasets"
      ],
      "metadata": {
        "id": "JNffK0ca11Kd"
      },
      "id": "JNffK0ca11Kd",
      "execution_count": null,
      "outputs": []
    },
    {
      "cell_type": "code",
      "source": [
        "!pip show pytorch_lightning"
      ],
      "metadata": {
        "id": "a-8ESIW2GSCl"
      },
      "id": "a-8ESIW2GSCl",
      "execution_count": null,
      "outputs": []
    },
    {
      "cell_type": "code",
      "source": [
        "!cd mamba && pip install ."
      ],
      "metadata": {
        "id": "347VYoRxue8X"
      },
      "id": "347VYoRxue8X",
      "execution_count": null,
      "outputs": []
    },
    {
      "cell_type": "code",
      "source": [
        "from mamba_ssm.models.mixer_seq_simple import MambaLMHeadModel"
      ],
      "metadata": {
        "id": "FDW2fAKPvGMj"
      },
      "id": "FDW2fAKPvGMj",
      "execution_count": 1,
      "outputs": []
    },
    {
      "cell_type": "code",
      "source": [
        "import torch\n",
        "import torch.nn as nn\n",
        "import torch.nn.functional as F\n",
        "from pytorch_lightning.demos import Transformer, WikiText2\n",
        "from torch.utils.data import DataLoader\n",
        "from pytorch_lightning.callbacks import RichProgressBar\n",
        "from pytorch_lightning.callbacks import DeviceStatsMonitor\n",
        "\n",
        "import pytorch_lightning as pl\n",
        "\n",
        "# intialize model, optimizer and defines training step\n",
        "class LanguageModel(pl.LightningModule):\n",
        "    def __init__(self, vocab_size):\n",
        "        super().__init__()\n",
        "        self.model = MambaLMHeadModel(\n",
        "            vocab_size=vocab_size,\n",
        "            n_layer=16,\n",
        "            d_model=1024,\n",
        "           # nhead=16,\n",
        "        )\n",
        "\n",
        "    def training_step(self, batch):\n",
        "        input, target = batch\n",
        "        # Get the logits from the model. Do not apply argmax here.\n",
        "        logits = self.model(input).logits\n",
        "\n",
        "        # Flatten the logits and target for CrossEntropyLoss\n",
        "        logits_flat = logits.view(-1, logits.shape[-1])  # Reshaping to [128 * 35, 33278]\n",
        "        target_flat = target.view(-1)                    # Reshaping to [128 * 35]\n",
        "\n",
        "        # Using CrossEntropyLoss\n",
        "        loss_function = torch.nn.CrossEntropyLoss()\n",
        "        loss = loss_function(logits_flat, target_flat)\n",
        "\n",
        "        # Log the loss and return\n",
        "        self.log(\"train_loss\", loss, prog_bar=True)\n",
        "        return loss\n",
        "\n",
        "\n",
        "    def configure_optimizers(self):\n",
        "        return torch.optim.Adam(self.parameters(), lr=0.1)\n",
        "\n",
        "pl.seed_everything(42)\n",
        "\n",
        "\n",
        "\n"
      ],
      "metadata": {
        "id": "tsF-T5ggnuTI"
      },
      "id": "tsF-T5ggnuTI",
      "execution_count": null,
      "outputs": []
    },
    {
      "cell_type": "code",
      "source": [
        "# Data\n",
        "dataset = WikiText2() #Virus DNA in our instance\n",
        "train_dataloader = DataLoader(dataset, batch_size=128)\n",
        "\n",
        "# Model\n",
        "model = LanguageModel(vocab_size=dataset.vocab_size)\n",
        "\n",
        "# Trainer\n",
        "trainer = pl.Trainer(accelerator=\"cuda\", devices=1)\n",
        "trainer.fit(model, train_dataloader)\n",
        "trainer.print(f\"Memory used: {torch.cuda.max_memory_allocated() / 1e9:.02f} GB\")"
      ],
      "metadata": {
        "colab": {
          "base_uri": "https://localhost:8080/",
          "height": 347,
          "referenced_widgets": [
            "d66ecd6657cf4f8f889374a071048507",
            "3c2a6d82f84c4ad49ea6788e5af06bf1",
            "6215ca2c239243b28aeeec8ab61e5c1a",
            "5c36f88c11604ea09dce24cfa8aa31c1",
            "2347d5780841473e886556a2314c04c2",
            "105a63b78bef4255b8a285837d138cc6",
            "c0558dae0149498bbb843d060aef1b80",
            "f78dcd80f7234f47ad40ccf51faeaaa7",
            "26e49d66210d4e3cb865401dd52512d1",
            "c8851824a23a413799a53f0c97a2cae6",
            "81f4325d0a72412cbc383cda64ea4202"
          ]
        },
        "id": "qLzg01QqOGz8",
        "outputId": "8bd51356-a60e-4143-9388-81808a19ffef"
      },
      "id": "qLzg01QqOGz8",
      "execution_count": null,
      "outputs": [
        {
          "metadata": {
            "tags": null
          },
          "name": "stderr",
          "output_type": "stream",
          "text": [
            "INFO:pytorch_lightning.utilities.rank_zero:GPU available: True (cuda), used: True\n",
            "INFO:pytorch_lightning.utilities.rank_zero:TPU available: False, using: 0 TPU cores\n",
            "INFO:pytorch_lightning.utilities.rank_zero:IPU available: False, using: 0 IPUs\n",
            "INFO:pytorch_lightning.utilities.rank_zero:HPU available: False, using: 0 HPUs\n",
            "/usr/local/lib/python3.10/dist-packages/pytorch_lightning/loops/utilities.py:73: `max_epochs` was not set. Setting it to 1000 epochs. To train without an epoch limit, set `max_epochs=-1`.\n",
            "INFO:pytorch_lightning.accelerators.cuda:LOCAL_RANK: 0 - CUDA_VISIBLE_DEVICES: [0]\n",
            "INFO:pytorch_lightning.callbacks.model_summary:\n",
            "  | Name  | Type             | Params\n",
            "-------------------------------------------\n",
            "0 | model | MambaLMHeadModel | 140 M \n",
            "-------------------------------------------\n",
            "140 M     Trainable params\n",
            "0         Non-trainable params\n",
            "140 M     Total params\n",
            "563.085   Total estimated model params size (MB)\n",
            "/usr/local/lib/python3.10/dist-packages/pytorch_lightning/trainer/connectors/data_connector.py:441: The 'train_dataloader' does not have many workers which may be a bottleneck. Consider increasing the value of the `num_workers` argument` to `num_workers=7` in the `DataLoader` to improve performance.\n"
          ]
        },
        {
          "data": {
            "application/vnd.jupyter.widget-view+json": {
              "model_id": "d66ecd6657cf4f8f889374a071048507",
              "version_major": 2,
              "version_minor": 0
            },
            "text/plain": [
              "Training: |          | 0/? [00:00<?, ?it/s]"
            ]
          },
          "metadata": {},
          "output_type": "display_data"
        }
      ]
    },
    {
      "cell_type": "code",
      "source": [
        "# from datasets import load_dataset\n",
        "# dataset = load_dataset('Hack90/virus_dna_dedup_minihash_0.9_kmer_7')\n",
        "# virus = ''\n",
        "# for x in list(dataset['train']['sequence_x']):\n",
        "#   virus = virus +  x + '/n'\n",
        "# # Using loop\n",
        "# # Insert character after every character pair\n",
        "# separator = \" \"\n",
        "# res = \"\"\n",
        "# for i in range(0, len(virus), 10):\n",
        "#     res += virus[i:i + 2] + separator\n"
      ],
      "metadata": {
        "id": "2YylMvd_EtnW"
      },
      "id": "2YylMvd_EtnW",
      "execution_count": null,
      "outputs": []
    },
    {
      "cell_type": "code",
      "source": [
        "# class WikiText2(Dataset):\n",
        "#     \"\"\"Mini version of WikiText2.\"\"\"\n",
        "\n",
        "#     def __init__(self,  block_size: int = 35, download: bool = False) -> None:\n",
        "#         super().__init__()\n",
        "#         self.path = Path(\"/content/virus.txt\")\n",
        "#         self.data, self.dictionary = tokenize(self.path)\n",
        "#         self.block_size = block_size\n",
        "\n",
        "#     @property\n",
        "#     def vocab_size(self) -> int:\n",
        "#         return len(self.dictionary)\n",
        "\n",
        "#     def __len__(self) -> int:\n",
        "#         return len(self.data) // self.block_size - 1\n",
        "\n",
        "#     def __getitem__(self, index: int) -> Tuple[Tensor, Tensor]:\n",
        "#         start = index * self.block_size\n",
        "#         end = start + self.block_size\n",
        "#         inputs = self.data[start:end]\n",
        "#         target = self.data[(start + 1) : (end + 1)]\n",
        "#         return inputs, target\n",
        "\n",
        "#     @staticmethod\n",
        "#     def download(destination: Path) -> None:\n",
        "#         os.makedirs(destination.parent, exist_ok=True)\n",
        "#         url = \"https://raw.githubusercontent.com/pytorch/examples/main/word_language_model/data/wikitext-2/train.txt\"\n",
        "#         if os.path.exists(destination):\n",
        "#             return\n",
        "#         with open(destination, \"w\") as f:\n",
        "#             f.write(requests.get(url).text)"
      ],
      "metadata": {
        "id": "rsRxv1ziKhJG"
      },
      "id": "rsRxv1ziKhJG",
      "execution_count": null,
      "outputs": []
    },
    {
      "cell_type": "code",
      "source": [
        "# dataset = WikiText2()"
      ],
      "metadata": {
        "id": "A4-VnAy2LP5D"
      },
      "id": "A4-VnAy2LP5D",
      "execution_count": null,
      "outputs": []
    }
  ],
  "metadata": {
    "kernelspec": {
      "display_name": "Python 3",
      "name": "python3"
    },
    "language_info": {
      "codemirror_mode": {
        "name": "ipython",
        "version": 3
      },
      "file_extension": ".py",
      "mimetype": "text/x-python",
      "name": "python",
      "nbconvert_exporter": "python",
      "pygments_lexer": "ipython3",
      "version": "3.10.12"
    },
    "colab": {
      "provenance": [],
      "gpuType": "T4",
      "machine_shape": "hm"
    },
    "accelerator": "GPU",
    "widgets": {
      "application/vnd.jupyter.widget-state+json": {
        "d66ecd6657cf4f8f889374a071048507": {
          "model_module": "@jupyter-widgets/controls",
          "model_name": "HBoxModel",
          "model_module_version": "1.5.0",
          "state": {
            "_dom_classes": [],
            "_model_module": "@jupyter-widgets/controls",
            "_model_module_version": "1.5.0",
            "_model_name": "HBoxModel",
            "_view_count": null,
            "_view_module": "@jupyter-widgets/controls",
            "_view_module_version": "1.5.0",
            "_view_name": "HBoxView",
            "box_style": "",
            "children": [
              "IPY_MODEL_3c2a6d82f84c4ad49ea6788e5af06bf1",
              "IPY_MODEL_6215ca2c239243b28aeeec8ab61e5c1a",
              "IPY_MODEL_5c36f88c11604ea09dce24cfa8aa31c1"
            ],
            "layout": "IPY_MODEL_2347d5780841473e886556a2314c04c2"
          }
        },
        "3c2a6d82f84c4ad49ea6788e5af06bf1": {
          "model_module": "@jupyter-widgets/controls",
          "model_name": "HTMLModel",
          "model_module_version": "1.5.0",
          "state": {
            "_dom_classes": [],
            "_model_module": "@jupyter-widgets/controls",
            "_model_module_version": "1.5.0",
            "_model_name": "HTMLModel",
            "_view_count": null,
            "_view_module": "@jupyter-widgets/controls",
            "_view_module_version": "1.5.0",
            "_view_name": "HTMLView",
            "description": "",
            "description_tooltip": null,
            "layout": "IPY_MODEL_105a63b78bef4255b8a285837d138cc6",
            "placeholder": "​",
            "style": "IPY_MODEL_c0558dae0149498bbb843d060aef1b80",
            "value": "Epoch 3:  69%"
          }
        },
        "6215ca2c239243b28aeeec8ab61e5c1a": {
          "model_module": "@jupyter-widgets/controls",
          "model_name": "FloatProgressModel",
          "model_module_version": "1.5.0",
          "state": {
            "_dom_classes": [],
            "_model_module": "@jupyter-widgets/controls",
            "_model_module_version": "1.5.0",
            "_model_name": "FloatProgressModel",
            "_view_count": null,
            "_view_module": "@jupyter-widgets/controls",
            "_view_module_version": "1.5.0",
            "_view_name": "ProgressView",
            "bar_style": "",
            "description": "",
            "description_tooltip": null,
            "layout": "IPY_MODEL_f78dcd80f7234f47ad40ccf51faeaaa7",
            "max": 467,
            "min": 0,
            "orientation": "horizontal",
            "style": "IPY_MODEL_26e49d66210d4e3cb865401dd52512d1",
            "value": 320
          }
        },
        "5c36f88c11604ea09dce24cfa8aa31c1": {
          "model_module": "@jupyter-widgets/controls",
          "model_name": "HTMLModel",
          "model_module_version": "1.5.0",
          "state": {
            "_dom_classes": [],
            "_model_module": "@jupyter-widgets/controls",
            "_model_module_version": "1.5.0",
            "_model_name": "HTMLModel",
            "_view_count": null,
            "_view_module": "@jupyter-widgets/controls",
            "_view_module_version": "1.5.0",
            "_view_name": "HTMLView",
            "description": "",
            "description_tooltip": null,
            "layout": "IPY_MODEL_c8851824a23a413799a53f0c97a2cae6",
            "placeholder": "​",
            "style": "IPY_MODEL_81f4325d0a72412cbc383cda64ea4202",
            "value": " 320/467 [08:52&lt;04:04,  0.60it/s, v_num=20, train_loss=156.0]"
          }
        },
        "2347d5780841473e886556a2314c04c2": {
          "model_module": "@jupyter-widgets/base",
          "model_name": "LayoutModel",
          "model_module_version": "1.2.0",
          "state": {
            "_model_module": "@jupyter-widgets/base",
            "_model_module_version": "1.2.0",
            "_model_name": "LayoutModel",
            "_view_count": null,
            "_view_module": "@jupyter-widgets/base",
            "_view_module_version": "1.2.0",
            "_view_name": "LayoutView",
            "align_content": null,
            "align_items": null,
            "align_self": null,
            "border": null,
            "bottom": null,
            "display": "inline-flex",
            "flex": null,
            "flex_flow": "row wrap",
            "grid_area": null,
            "grid_auto_columns": null,
            "grid_auto_flow": null,
            "grid_auto_rows": null,
            "grid_column": null,
            "grid_gap": null,
            "grid_row": null,
            "grid_template_areas": null,
            "grid_template_columns": null,
            "grid_template_rows": null,
            "height": null,
            "justify_content": null,
            "justify_items": null,
            "left": null,
            "margin": null,
            "max_height": null,
            "max_width": null,
            "min_height": null,
            "min_width": null,
            "object_fit": null,
            "object_position": null,
            "order": null,
            "overflow": null,
            "overflow_x": null,
            "overflow_y": null,
            "padding": null,
            "right": null,
            "top": null,
            "visibility": null,
            "width": "100%"
          }
        },
        "105a63b78bef4255b8a285837d138cc6": {
          "model_module": "@jupyter-widgets/base",
          "model_name": "LayoutModel",
          "model_module_version": "1.2.0",
          "state": {
            "_model_module": "@jupyter-widgets/base",
            "_model_module_version": "1.2.0",
            "_model_name": "LayoutModel",
            "_view_count": null,
            "_view_module": "@jupyter-widgets/base",
            "_view_module_version": "1.2.0",
            "_view_name": "LayoutView",
            "align_content": null,
            "align_items": null,
            "align_self": null,
            "border": null,
            "bottom": null,
            "display": null,
            "flex": null,
            "flex_flow": null,
            "grid_area": null,
            "grid_auto_columns": null,
            "grid_auto_flow": null,
            "grid_auto_rows": null,
            "grid_column": null,
            "grid_gap": null,
            "grid_row": null,
            "grid_template_areas": null,
            "grid_template_columns": null,
            "grid_template_rows": null,
            "height": null,
            "justify_content": null,
            "justify_items": null,
            "left": null,
            "margin": null,
            "max_height": null,
            "max_width": null,
            "min_height": null,
            "min_width": null,
            "object_fit": null,
            "object_position": null,
            "order": null,
            "overflow": null,
            "overflow_x": null,
            "overflow_y": null,
            "padding": null,
            "right": null,
            "top": null,
            "visibility": null,
            "width": null
          }
        },
        "c0558dae0149498bbb843d060aef1b80": {
          "model_module": "@jupyter-widgets/controls",
          "model_name": "DescriptionStyleModel",
          "model_module_version": "1.5.0",
          "state": {
            "_model_module": "@jupyter-widgets/controls",
            "_model_module_version": "1.5.0",
            "_model_name": "DescriptionStyleModel",
            "_view_count": null,
            "_view_module": "@jupyter-widgets/base",
            "_view_module_version": "1.2.0",
            "_view_name": "StyleView",
            "description_width": ""
          }
        },
        "f78dcd80f7234f47ad40ccf51faeaaa7": {
          "model_module": "@jupyter-widgets/base",
          "model_name": "LayoutModel",
          "model_module_version": "1.2.0",
          "state": {
            "_model_module": "@jupyter-widgets/base",
            "_model_module_version": "1.2.0",
            "_model_name": "LayoutModel",
            "_view_count": null,
            "_view_module": "@jupyter-widgets/base",
            "_view_module_version": "1.2.0",
            "_view_name": "LayoutView",
            "align_content": null,
            "align_items": null,
            "align_self": null,
            "border": null,
            "bottom": null,
            "display": null,
            "flex": "2",
            "flex_flow": null,
            "grid_area": null,
            "grid_auto_columns": null,
            "grid_auto_flow": null,
            "grid_auto_rows": null,
            "grid_column": null,
            "grid_gap": null,
            "grid_row": null,
            "grid_template_areas": null,
            "grid_template_columns": null,
            "grid_template_rows": null,
            "height": null,
            "justify_content": null,
            "justify_items": null,
            "left": null,
            "margin": null,
            "max_height": null,
            "max_width": null,
            "min_height": null,
            "min_width": null,
            "object_fit": null,
            "object_position": null,
            "order": null,
            "overflow": null,
            "overflow_x": null,
            "overflow_y": null,
            "padding": null,
            "right": null,
            "top": null,
            "visibility": null,
            "width": null
          }
        },
        "26e49d66210d4e3cb865401dd52512d1": {
          "model_module": "@jupyter-widgets/controls",
          "model_name": "ProgressStyleModel",
          "model_module_version": "1.5.0",
          "state": {
            "_model_module": "@jupyter-widgets/controls",
            "_model_module_version": "1.5.0",
            "_model_name": "ProgressStyleModel",
            "_view_count": null,
            "_view_module": "@jupyter-widgets/base",
            "_view_module_version": "1.2.0",
            "_view_name": "StyleView",
            "bar_color": null,
            "description_width": ""
          }
        },
        "c8851824a23a413799a53f0c97a2cae6": {
          "model_module": "@jupyter-widgets/base",
          "model_name": "LayoutModel",
          "model_module_version": "1.2.0",
          "state": {
            "_model_module": "@jupyter-widgets/base",
            "_model_module_version": "1.2.0",
            "_model_name": "LayoutModel",
            "_view_count": null,
            "_view_module": "@jupyter-widgets/base",
            "_view_module_version": "1.2.0",
            "_view_name": "LayoutView",
            "align_content": null,
            "align_items": null,
            "align_self": null,
            "border": null,
            "bottom": null,
            "display": null,
            "flex": null,
            "flex_flow": null,
            "grid_area": null,
            "grid_auto_columns": null,
            "grid_auto_flow": null,
            "grid_auto_rows": null,
            "grid_column": null,
            "grid_gap": null,
            "grid_row": null,
            "grid_template_areas": null,
            "grid_template_columns": null,
            "grid_template_rows": null,
            "height": null,
            "justify_content": null,
            "justify_items": null,
            "left": null,
            "margin": null,
            "max_height": null,
            "max_width": null,
            "min_height": null,
            "min_width": null,
            "object_fit": null,
            "object_position": null,
            "order": null,
            "overflow": null,
            "overflow_x": null,
            "overflow_y": null,
            "padding": null,
            "right": null,
            "top": null,
            "visibility": null,
            "width": null
          }
        },
        "81f4325d0a72412cbc383cda64ea4202": {
          "model_module": "@jupyter-widgets/controls",
          "model_name": "DescriptionStyleModel",
          "model_module_version": "1.5.0",
          "state": {
            "_model_module": "@jupyter-widgets/controls",
            "_model_module_version": "1.5.0",
            "_model_name": "DescriptionStyleModel",
            "_view_count": null,
            "_view_module": "@jupyter-widgets/base",
            "_view_module_version": "1.2.0",
            "_view_name": "StyleView",
            "description_width": ""
          }
        }
      }
    }
  },
  "nbformat": 4,
  "nbformat_minor": 5
}