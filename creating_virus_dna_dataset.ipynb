{
  "nbformat": 4,
  "nbformat_minor": 0,
  "metadata": {
    "colab": {
      "provenance": []
    },
    "kernelspec": {
      "name": "python3",
      "display_name": "Python 3"
    },
    "language_info": {
      "name": "python"
    }
  },
  "cells": [
    {
      "cell_type": "code",
      "source": [
        "#install the requisite libraries\n",
        "!pip install biopython Datasets thefuzz"
      ],
      "metadata": {
        "id": "YD-4pg1EUuAr"
      },
      "execution_count": null,
      "outputs": []
    },
    {
      "cell_type": "code",
      "source": [
        "import ftplib\n",
        "from Bio import SeqIO\n",
        "import glob\n",
        "import pandas as pd\n",
        "from datasets import load_dataset"
      ],
      "metadata": {
        "id": "8PgMSMjKhZGY"
      },
      "execution_count": null,
      "outputs": []
    },
    {
      "cell_type": "code",
      "source": [
        "#initialise list of files to be downloaded from ftp server\n",
        "file_list = ['Adenoviridae.fna',\n",
        " 'Adenoviridae.fna',\n",
        " 'Asfarviridae.fna',\n",
        " 'Bunyavirales.fna',\n",
        " 'Caliciviridae.fna',\n",
        " 'Coronaviridae.fna',\n",
        " 'Coronaviridae.fna',\n",
        " 'Filoviridae.fna',\n",
        " 'Flaviviridae.fna',\n",
        " 'Hepadnaviridae.fna',\n",
        " 'Hepeviridae.fna',\n",
        " 'Herpesviridae.fna',\n",
        " 'Orthomyxoviridae.fna',\n",
        " 'Paramyxoviridae.fna',\n",
        " 'Parvoviridae.fna',\n",
        " 'Picornaviridae.fna',\n",
        " 'Pneumoviridae.fna',\n",
        " 'Polyomaviridae.fna',\n",
        " 'Poxviridae.fna',\n",
        " 'Reovirales.fna',\n",
        " 'Reoviridae.fna',\n",
        " 'Rhabdoviridae.fna',\n",
        " 'Togaviridae.fna']"
      ],
      "metadata": {
        "id": "4TYTYRaIZ2ZV"
      },
      "execution_count": null,
      "outputs": []
    },
    {
      "cell_type": "code",
      "source": [
        "#helper function\n",
        "def ftp_list_top_dirs(ftp_session):\n",
        "    \"\"\"\n",
        "       List the top directories on a ftp server\n",
        "\n",
        "       @param ftp_session: ftp session object\n",
        "\n",
        "       Returned Value:\n",
        "          - List of directories and files\n",
        "           (similar to the Unix command 'ls -l')\n",
        "    \"\"\"\n",
        "\n",
        "    data = []\n",
        "\n",
        "    # Get the list of files\n",
        "    ftp_session.dir(data.append)\n",
        "\n",
        "    return data"
      ],
      "metadata": {
        "id": "on1ZukmGSaiy"
      },
      "execution_count": null,
      "outputs": []
    },
    {
      "cell_type": "code",
      "source": [
        "def ftp_get_file(ftp_session, file_name):\n",
        "    \"\"\"\n",
        "         Get a file from a ftp server\n",
        "\n",
        "         @param ftp_session: ftp session object\n",
        "         @param file_name: name of the file you want to download\n",
        "    \"\"\"\n",
        "    try:\n",
        "        ftp_session.retrbinary(\"RETR \" + file_name ,open(file_name, 'wb').write)\n",
        "    except:\n",
        "        print(\"Error - Cannot obtain file: \"+ file_name)"
      ],
      "metadata": {
        "id": "ZmMyg4GSTIfk"
      },
      "execution_count": null,
      "outputs": []
    },
    {
      "cell_type": "code",
      "source": [
        "ftp_server = 'ftp.bvbrc.org'\n",
        "ftp_session= ftplib.FTP(ftp_server)\n",
        "ftp_session.login()\n",
        "\n",
        "ftp_session.retrlines('LIST')\n",
        "ftp_session.cwd('viruses')\n",
        "for item in file_list:\n",
        "  ftp_get_file(ftp_session, item)"
      ],
      "metadata": {
        "id": "0O7KVls-he5z"
      },
      "execution_count": null,
      "outputs": []
    },
    {
      "cell_type": "code",
      "source": [
        "for file in glob.glob(\"*.fna\"):\n",
        "    f_name = str(file).replace('.fna', '')\n",
        "    viruses = []\n",
        "    try:\n",
        "      for record in SeqIO.parse(file,\"fasta\"):\n",
        "        record_id = str(record.id)\n",
        "        record_seq = str(record.seq)\n",
        "        record_name = str(record.name)\n",
        "        record_description = str(record.description)\n",
        "        record_no_of_features = len(record.features)\n",
        "        record_seq_length = len(str(record.seq))\n",
        "        virus = [record_id, record_seq, record_name, record_description,\n",
        "                 record_no_of_features, record_seq_length]\n",
        "        viruses.append(virus)\n",
        "    except:\n",
        "      print(f_name + 'has an error')\n",
        "    df = pd.DataFrame(viruses, columns = ['id', 'sequence', 'name',\n",
        "                                          'description', 'features',\n",
        "                                          'seq_length'])\n",
        "    df.to_parquet(f'{f_name}.parquet')\n",
        "    print(f\"function call finished for {f_name}\")"
      ],
      "metadata": {
        "id": "9NAHYkAPjMCU"
      },
      "execution_count": null,
      "outputs": []
    },
    {
      "cell_type": "code",
      "source": [
        "# Create a folder for the parquet files and load the dataset\n",
        "!mkdir dna\n",
        "!mv ***.parquet /content/dna\n",
        "dataset = load_dataset(\"parquet\", data_files=\"/content/dna/*.parquet\")"
      ],
      "metadata": {
        "id": "JceyBjl6pzUF"
      },
      "execution_count": null,
      "outputs": []
    },
    {
      "cell_type": "code",
      "source": [
        "# If you a huggingface account, you can push the dataset there.\n",
        "# !huggingface-cli login\n",
        "# dataset.push_to_hub('Hack90/virus_dna_dataset')"
      ],
      "metadata": {
        "id": "WXy0GKIL8oce"
      },
      "execution_count": null,
      "outputs": []
    }
  ]
}